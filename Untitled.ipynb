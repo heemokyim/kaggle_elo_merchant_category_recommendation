{
 "cells": [
  {
   "cell_type": "code",
   "execution_count": 1,
   "metadata": {},
   "outputs": [],
   "source": [
    "import pandas as pd\n",
    "import numpy as np\n",
    "import matplotlib.pyplot as plt\n",
    "import xgboost as xgb\n",
    "import itertools\n",
    "import re\n",
    "from sklearn.model_selection import train_test_split\n",
    "from sklearn.metrics import mean_squared_error\n",
    "from sklearn.model_selection import KFold\n",
    "from scipy.stats import entropy"
   ]
  },
  {
   "cell_type": "code",
   "execution_count": 2,
   "metadata": {},
   "outputs": [],
   "source": [
    "train = pd.read_csv('./raw_data/train.csv')\n",
    "test = pd.read_csv('./raw_data/test.csv')\n",
    "ss = pd.read_csv('./raw_data/sample_submission.csv')\n",
    "hist_trans = pd.read_csv('./raw_data/historical_transactions.csv')\n",
    "new_merch_trans = pd.read_csv('./raw_data/new_merchant_transactions.csv')\n",
    "merch = pd.read_csv('./raw_data/merchants.csv')"
   ]
  },
  {
   "cell_type": "markdown",
   "metadata": {},
   "source": [
    "## 1. EDA"
   ]
  },
  {
   "cell_type": "code",
   "execution_count": 3,
   "metadata": {},
   "outputs": [
    {
     "name": "stderr",
     "output_type": "stream",
     "text": [
      "C:\\Users\\bcheung\\Anaconda3\\lib\\site-packages\\ipykernel_launcher.py:3: FutureWarning: Sorting because non-concatenation axis is not aligned. A future version\n",
      "of pandas will change to not sort by default.\n",
      "\n",
      "To accept the future behavior, pass 'sort=True'.\n",
      "\n",
      "To retain the current behavior and silence the warning, pass sort=False\n",
      "\n",
      "  This is separate from the ipykernel package so we can avoid doing imports until\n"
     ]
    }
   ],
   "source": [
    "train['sample'] = 'train'\n",
    "test['sample'] = 'test'\n",
    "full = pd.concat([train,test])"
   ]
  },
  {
   "cell_type": "code",
   "execution_count": 4,
   "metadata": {},
   "outputs": [
    {
     "data": {
      "image/png": "[encoded data removed]",
      "text/plain": [
       "<Figure size 720x576 with 1 Axes>"
      ]
     },
     "metadata": {},
     "output_type": "display_data"
    }
   ],
   "source": [
    "fig, ax = plt.subplots(figsize=(10,8))\n",
    "ax.scatter(np.arange(len(train)),train['target'].sort_values())\n",
    "ax.set_ylabel('Loyalty Score')\n",
    "plt.show()"
   ]
  },
  {
   "cell_type": "code",
   "execution_count": 5,
   "metadata": {},
   "outputs": [],
   "source": [
    "hist_trans['category_2'] = np.where(hist_trans['category_2'].isna(),0.0,hist_trans['category_2'])\n",
    "hist_trans['category_3'] = np.where(hist_trans['category_3'].isna(),'D',hist_trans['category_3'])"
   ]
  },
  {
   "cell_type": "markdown",
   "metadata": {},
   "source": [
    "## 2. Feature Engineering"
   ]
  },
  {
   "cell_type": "code",
   "execution_count": 6,
   "metadata": {},
   "outputs": [
    {
     "data": {
      "text/html": [
       "<div>\n",
       "<style scoped>\n",
       "    .dataframe tbody tr th:only-of-type {\n",
       "        vertical-align: middle;\n",
       "    }\n",
       "\n",
       "    .dataframe tbody tr th {\n",
       "        vertical-align: top;\n",
       "    }\n",
       "\n",
       "    .dataframe thead th {\n",
       "        text-align: right;\n",
       "    }\n",
       "</style>\n",
       "<table border=\"1\" class=\"dataframe\">\n",
       "  <thead>\n",
       "    <tr style=\"text-align: right;\">\n",
       "      <th></th>\n",
       "      <th>authorized_flag</th>\n",
       "      <th>card_id</th>\n",
       "      <th>city_id</th>\n",
       "      <th>category_1</th>\n",
       "      <th>installments</th>\n",
       "      <th>category_3</th>\n",
       "      <th>merchant_category_id</th>\n",
       "      <th>merchant_id</th>\n",
       "      <th>month_lag</th>\n",
       "      <th>purchase_amount</th>\n",
       "      <th>purchase_date</th>\n",
       "      <th>category_2</th>\n",
       "      <th>state_id</th>\n",
       "      <th>subsector_id</th>\n",
       "    </tr>\n",
       "  </thead>\n",
       "  <tbody>\n",
       "    <tr>\n",
       "      <th>0</th>\n",
       "      <td>Y</td>\n",
       "      <td>C_ID_4e6213e9bc</td>\n",
       "      <td>88</td>\n",
       "      <td>N</td>\n",
       "      <td>0</td>\n",
       "      <td>A</td>\n",
       "      <td>80</td>\n",
       "      <td>M_ID_e020e9b302</td>\n",
       "      <td>-8</td>\n",
       "      <td>-0.703331</td>\n",
       "      <td>2017-06-25 15:33:07</td>\n",
       "      <td>1.0</td>\n",
       "      <td>16</td>\n",
       "      <td>37</td>\n",
       "    </tr>\n",
       "    <tr>\n",
       "      <th>1</th>\n",
       "      <td>Y</td>\n",
       "      <td>C_ID_4e6213e9bc</td>\n",
       "      <td>88</td>\n",
       "      <td>N</td>\n",
       "      <td>0</td>\n",
       "      <td>A</td>\n",
       "      <td>367</td>\n",
       "      <td>M_ID_86ec983688</td>\n",
       "      <td>-7</td>\n",
       "      <td>-0.733128</td>\n",
       "      <td>2017-07-15 12:10:45</td>\n",
       "      <td>1.0</td>\n",
       "      <td>16</td>\n",
       "      <td>16</td>\n",
       "    </tr>\n",
       "    <tr>\n",
       "      <th>2</th>\n",
       "      <td>Y</td>\n",
       "      <td>C_ID_4e6213e9bc</td>\n",
       "      <td>88</td>\n",
       "      <td>N</td>\n",
       "      <td>0</td>\n",
       "      <td>A</td>\n",
       "      <td>80</td>\n",
       "      <td>M_ID_979ed661fc</td>\n",
       "      <td>-6</td>\n",
       "      <td>-0.720386</td>\n",
       "      <td>2017-08-09 22:04:29</td>\n",
       "      <td>1.0</td>\n",
       "      <td>16</td>\n",
       "      <td>37</td>\n",
       "    </tr>\n",
       "    <tr>\n",
       "      <th>3</th>\n",
       "      <td>Y</td>\n",
       "      <td>C_ID_4e6213e9bc</td>\n",
       "      <td>88</td>\n",
       "      <td>N</td>\n",
       "      <td>0</td>\n",
       "      <td>A</td>\n",
       "      <td>560</td>\n",
       "      <td>M_ID_e6d5ae8ea6</td>\n",
       "      <td>-5</td>\n",
       "      <td>-0.735352</td>\n",
       "      <td>2017-09-02 10:06:26</td>\n",
       "      <td>1.0</td>\n",
       "      <td>16</td>\n",
       "      <td>34</td>\n",
       "    </tr>\n",
       "    <tr>\n",
       "      <th>4</th>\n",
       "      <td>Y</td>\n",
       "      <td>C_ID_4e6213e9bc</td>\n",
       "      <td>88</td>\n",
       "      <td>N</td>\n",
       "      <td>0</td>\n",
       "      <td>A</td>\n",
       "      <td>80</td>\n",
       "      <td>M_ID_e020e9b302</td>\n",
       "      <td>-11</td>\n",
       "      <td>-0.722865</td>\n",
       "      <td>2017-03-10 01:14:19</td>\n",
       "      <td>1.0</td>\n",
       "      <td>16</td>\n",
       "      <td>37</td>\n",
       "    </tr>\n",
       "  </tbody>\n",
       "</table>\n",
       "</div>"
      ],
      "text/plain": [
       "  authorized_flag          card_id  city_id category_1  installments  \\\n",
       "0               Y  C_ID_4e6213e9bc       88          N             0   \n",
       "1               Y  C_ID_4e6213e9bc       88          N             0   \n",
       "2               Y  C_ID_4e6213e9bc       88          N             0   \n",
       "3               Y  C_ID_4e6213e9bc       88          N             0   \n",
       "4               Y  C_ID_4e6213e9bc       88          N             0   \n",
       "\n",
       "  category_3  merchant_category_id      merchant_id  month_lag  \\\n",
       "0          A                    80  M_ID_e020e9b302         -8   \n",
       "1          A                   367  M_ID_86ec983688         -7   \n",
       "2          A                    80  M_ID_979ed661fc         -6   \n",
       "3          A                   560  M_ID_e6d5ae8ea6         -5   \n",
       "4          A                    80  M_ID_e020e9b302        -11   \n",
       "\n",
       "   purchase_amount        purchase_date  category_2  state_id  subsector_id  \n",
       "0        -0.703331  2017-06-25 15:33:07         1.0        16            37  \n",
       "1        -0.733128  2017-07-15 12:10:45         1.0        16            16  \n",
       "2        -0.720386  2017-08-09 22:04:29         1.0        16            37  \n",
       "3        -0.735352  2017-09-02 10:06:26         1.0        16            34  \n",
       "4        -0.722865  2017-03-10 01:14:19         1.0        16            37  "
      ]
     },
     "execution_count": 6,
     "metadata": {},
     "output_type": "execute_result"
    }
   ],
   "source": [
    "hist_trans.head()"
   ]
  },
  {
   "cell_type": "code",
   "execution_count": 7,
   "metadata": {},
   "outputs": [],
   "source": [
    "def calc_str_stats(x,column):\n",
    "    str_stats_dict = {}\n",
    "    str_stats_dict['nunique_{}'.format(column)] = x.nunique()\n",
    "    \n",
    "    converted_dummies = pd.get_dummies(x,prefix=column,prefix_sep='_')\n",
    "    \n",
    "    dummies_counts = converted_dummies.sum()\n",
    "    dummies_counts.index = ['{}_ct'.format(x) for x in dummies_counts.index]\n",
    "    dummies_counts = dummies_counts.to_dict()\n",
    "    \n",
    "    entropy_cols = ['{}_entropy'.format(x) for x in converted_dummies.columns]\n",
    "    dummies_entropy = dict(zip(entropy_cols,np.apply_along_axis(entropy,0,converted_dummies)))\n",
    "    \n",
    "    combined_str_stats_dict = {**str_stats_dict,\n",
    "                               **dummies_counts,\n",
    "                               **dummies_entropy}    \n",
    "    \n",
    "    return(combined_str_stats_dict)"
   ]
  },
  {
   "cell_type": "code",
   "execution_count": 8,
   "metadata": {},
   "outputs": [],
   "source": [
    "def calc_stats(x,column,q_values=np.arange(5,100,20)):\n",
    "    stats_dict = {}\n",
    "    stats_dict['mean_{}'.format(column)] = np.mean(x)\n",
    "    stats_dict['std_{}'.format(column)] = np.std(x)\n",
    "    stats_dict['min_{}'.format(column)] = np.min(x)\n",
    "    stats_dict['max_{}'.format(column)] = np.max(x)\n",
    "    percentile_values = np.percentile(x,q_values)\n",
    "    percentile_cols = ['q{}_{}'.format(q,column) for q in q_values]\n",
    "    percentile_dict = dict(zip(percentile_cols,percentile_values))\n",
    "    final_stats_dict = {**stats_dict,\n",
    "                        **percentile_dict}\n",
    "    return(final_stats_dict)"
   ]
  },
  {
   "cell_type": "code",
   "execution_count": 9,
   "metadata": {},
   "outputs": [],
   "source": [
    "def gen_features(x):\n",
    "    x = x.sort_values(['month_lag'],axis=0,ascending=True)\n",
    "    \n",
    "    month_lag_stats_feats = calc_stats(x['month_lag'],'month_lag')\n",
    "    purchase_amount_stats_feats = calc_stats(x['purchase_amount'],'purchase_amount')\n",
    "    installments_stats_feats = calc_stats(x['installments'],'installments')\n",
    "    \n",
    "    merchant_cat_stats_feats = calc_str_stats(x['merchant_category_id'],'merchant_category_id')\n",
    "    authorized_flag_stats_feats = calc_str_stats(x['authorized_flag'],'authorized_flag')\n",
    "    subsector_id_stats_feats = calc_str_stats(x['subsector_id'],'subsector_id')\n",
    "    category_1_stats_feats = calc_str_stats(x['category_1'],'category_1')\n",
    "    category_2_stats_feats = calc_str_stats(x['category_2'],'category_2')\n",
    "    category_3_stats_feats = calc_str_stats(x['category_3'],'category_3')\n",
    "    \n",
    "    trans_feats_dict = {**month_lag_stats_feats,\n",
    "                        **purchase_amount_stats_feats,\n",
    "                        **category_1_stats_feats,\n",
    "                        **category_2_stats_feats,\n",
    "                        **category_3_stats_feats,\n",
    "                        **merchant_cat_stats_feats,\n",
    "                        **authorized_flag_stats_feats,\n",
    "                        **subsector_id_stats_feats}\n",
    "    \n",
    "    return(pd.Series(trans_feats_dict))"
   ]
  },
  {
   "cell_type": "code",
   "execution_count": 10,
   "metadata": {},
   "outputs": [],
   "source": [
    "card_trans_feats = hist_trans.groupby('card_id').apply(lambda x: gen_features(x))\n",
    "card_trans_feats = pd.DataFrame(card_trans_feats)\n",
    "card_trans_feats = card_trans_feats.reset_index()\n",
    "card_trans_feats.columns=['card_id','feature','value']\n",
    "card_trans_feats = pd.pivot_table(card_trans_feats,values='value',index='card_id',columns='feature')\n",
    "card_trans_vars = card_trans_feats.columns \n",
    "card_trans_feats = card_trans_feats.reset_index()"
   ]
  },
  {
   "cell_type": "code",
   "execution_count": 11,
   "metadata": {},
   "outputs": [],
   "source": [
    "for col in card_trans_vars:\n",
    "    if len(re.findall('_ct$|_entropy$',col)) > 0:\n",
    "        card_trans_feats[col] = np.where(card_trans_feats[col].isna(),0,card_trans_feats[col])\n",
    "    else:\n",
    "        card_trans_feats[col] = np.where(card_trans_feats[col].isna(),0,card_trans_feats[col])"
   ]
  },
  {
   "cell_type": "code",
   "execution_count": 12,
   "metadata": {},
   "outputs": [],
   "source": [
    "card_trans_feats.to_pickle('./features/card_trans_features.pkl')"
   ]
  },
  {
   "cell_type": "code",
   "execution_count": 13,
   "metadata": {},
   "outputs": [],
   "source": [
    "full['feature_1'] = full['feature_1'].astype(str)\n",
    "full['feature_2'] = full['feature_2'].astype(str)\n",
    "full['feature_3'] = full['feature_3'].astype(str)\n",
    "dummie_vars_df = pd.get_dummies(full[['feature_1','feature_2','feature_3']],prefix_sep='_')\n",
    "full = pd.concat([full,dummie_vars_df],axis=1)\n",
    "dummie_vars = dummie_vars_df.columns"
   ]
  },
  {
   "cell_type": "code",
   "execution_count": 14,
   "metadata": {},
   "outputs": [],
   "source": [
    "full = full.merge(card_trans_feats,how='left',on='card_id')"
   ]
  },
  {
   "cell_type": "markdown",
   "metadata": {},
   "source": [
    "## 3. Build Models"
   ]
  },
  {
   "cell_type": "code",
   "execution_count": 15,
   "metadata": {},
   "outputs": [],
   "source": [
    "init_preds = []\n",
    "all_vars = [init_preds,dummie_vars,card_trans_vars]"
   ]
  },
  {
   "cell_type": "code",
   "execution_count": 16,
   "metadata": {},
   "outputs": [],
   "source": [
    "PREDICTORS = list(itertools.chain.from_iterable(all_vars))\n",
    "TARGET = 'target'"
   ]
  },
  {
   "cell_type": "code",
   "execution_count": 17,
   "metadata": {},
   "outputs": [],
   "source": [
    "train = full[full['sample']=='train']\n",
    "test = full[full['sample']=='test']"
   ]
  },
  {
   "cell_type": "code",
   "execution_count": 66,
   "metadata": {},
   "outputs": [],
   "source": [
    "xgb_params = {'max_depth': 32, \n",
    "              'eta': 0.1, \n",
    "              'silent': 1,\n",
    "              'subsample':0.85,\n",
    "              'lambda':2,\n",
    "              'alpha':2,\n",
    "              'gamma':128,\n",
    "              'colsample_bytree':0.2,\n",
    "              'min_child_weight':24,\n",
    "              'objective':'reg:linear',\n",
    "              'eval_metric':'rmse',\n",
    "              'seed':128}\n",
    "\n",
    "fit_params = {'num_boost_round':250}"
   ]
  },
  {
   "cell_type": "code",
   "execution_count": 67,
   "metadata": {},
   "outputs": [],
   "source": [
    "dtrain = xgb.DMatrix(data=train[PREDICTORS],label=train[TARGET],feature_names=PREDICTORS)"
   ]
  },
  {
   "cell_type": "code",
   "execution_count": null,
   "metadata": {},
   "outputs": [],
   "source": [
    "xgb_cv = xgb.cv(xgb_params, dtrain,**fit_params,nfold=10,seed=128,verbose_eval=False)"
   ]
  },
  {
   "cell_type": "code",
   "execution_count": null,
   "metadata": {},
   "outputs": [],
   "source": [
    "plt.figure(figsize=(16,8))\n",
    "plt.plot(xgb_cv.index.values,xgb_cv.iloc[:,0],color='r')\n",
    "plt.fill_between(xgb_cv.index.values,xgb_cv.iloc[:,0]-xgb_cv.iloc[:,1],xgb_cv.iloc[:,0]+xgb_cv.iloc[:,1],alpha=0.1,color='r')\n",
    "plt.plot(xgb_cv.index.values,xgb_cv.iloc[:,2],color='g')\n",
    "plt.fill_between(xgb_cv.index.values,xgb_cv.iloc[:,2]-xgb_cv.iloc[:,3],xgb_cv.iloc[:,2]+xgb_cv.iloc[:,3],alpha=0.1,color='g')\n",
    "plt.axvline(xgb_cv.iloc[:,2].idxmin(),linestyle='--')\n",
    "plt.show()"
   ]
  },
  {
   "cell_type": "code",
   "execution_count": null,
   "metadata": {},
   "outputs": [],
   "source": [
    "xgb_cv.iloc[:,2].idxmin()"
   ]
  },
  {
   "cell_type": "code",
   "execution_count": null,
   "metadata": {},
   "outputs": [],
   "source": [
    "xgb_final = xgb.train(xgb_params, dtrain,**fit_params,verbose_eval=False)"
   ]
  },
  {
   "cell_type": "code",
   "execution_count": null,
   "metadata": {},
   "outputs": [],
   "source": [
    "xgb_final.get_fscore()"
   ]
  },
  {
   "cell_type": "code",
   "execution_count": null,
   "metadata": {},
   "outputs": [],
   "source": [
    "valid_mean_rmse = xgb_cv.iloc[-1,2]\n",
    "valid_std_rmse = xgb_cv.iloc[-1,3]\n",
    "\n",
    "lb = valid_mean_rmse - valid_std_rmse\n",
    "ub = valid_mean_rmse + valid_std_rmse"
   ]
  },
  {
   "cell_type": "code",
   "execution_count": null,
   "metadata": {},
   "outputs": [],
   "source": [
    "dtest = xgb.DMatrix(data=test[PREDICTORS],feature_names=PREDICTORS)\n",
    "ss['target'] = xgb_final.predict(dtest)\n",
    "ss.to_csv('./submissions/sample_submission_lb{}_ub{}.csv'.format(np.round(lb,3),np.round(ub,3)),index=False)"
   ]
  }
 ],
 "metadata": {
  "kernelspec": {
   "display_name": "Python 3",
   "language": "python",
   "name": "python3"
  },
  "language_info": {
   "codemirror_mode": {
    "name": "ipython",
    "version": 3
   },
   "file_extension": ".py",
   "mimetype": "text/x-python",
   "name": "python",
   "nbconvert_exporter": "python",
   "pygments_lexer": "ipython3",
   "version": "3.6.5"
  }
 },
 "nbformat": 4,
 "nbformat_minor": 2
}
